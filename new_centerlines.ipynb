{
 "cells": [
  {
   "cell_type": "markdown",
   "id": "1a47d89b-93a3-4a3b-bbca-7517f0e3c317",
   "metadata": {},
   "source": [
    "# Initialize glacier dirs https://oggm.org/tutorials/stable/notebooks/getting_started.html"
   ]
  },
  {
   "cell_type": "code",
   "execution_count": 29,
   "id": "d233b5f9-2621-4944-b243-805b24300994",
   "metadata": {},
   "outputs": [
    {
     "name": "stderr",
     "output_type": "stream",
     "text": [
      "2022-10-28 18:05:26: oggm.cfg: Reading default parameters from the OGGM `params.cfg` configuration file.\n",
      "2022-10-28 18:05:26: oggm.cfg: Multiprocessing switched OFF according to the parameter file.\n",
      "2022-10-28 18:05:26: oggm.cfg: Multiprocessing: using all available processors (N=8)\n"
     ]
    }
   ],
   "source": [
    "# Some test\n",
    "import os\n",
    "os.chdir('/home/francesc/repositories/oggm/oggm/core/')\n",
    "from oggm import cfg, utils\n",
    "cfg.initialize(logging_level='WARNING')\n",
    "from oggm import workflow\n",
    "cfg.PATHS['working_dir'] = utils.gettempdir(dirname='OGGM-new-cls', reset=False)\n",
    "cfg.PATHS['working_dir']\n",
    "rgi_ids = ['RGI60-11.00897','RGI60-11.00898']\n",
    "\n",
    "# bese url:\n",
    "base_url = ('https://cluster.klima.uni-bremen.de/~oggm/gdirs/oggm_v1.6/L3-L5_files/centerlines/w5e5/qc0/pcpwin/match_geod_pergla/')"
   ]
  },
  {
   "cell_type": "code",
   "execution_count": 2,
   "id": "60a24780-483a-4412-a259-c4f9f1487ed6",
   "metadata": {},
   "outputs": [
    {
     "name": "stderr",
     "output_type": "stream",
     "text": [
      "2022-10-28 18:00:52: oggm.workflow: init_glacier_directories from prepro level 3 on 2 glaciers.\n",
      "2022-10-28 18:00:52: oggm.workflow: Execute entity tasks [gdir_from_prepro] on 2 glaciers\n"
     ]
    }
   ],
   "source": [
    "# Where to fetch the pre-processed directories\n",
    "gdirs = workflow.init_glacier_directories(rgi_ids, from_prepro_level=3, prepro_border=80, prepro_base_url=base_url)"
   ]
  },
  {
   "cell_type": "code",
   "execution_count": 28,
   "id": "205b3673-b390-4ead-ac32-694b778a74bd",
   "metadata": {},
   "outputs": [
    {
     "name": "stderr",
     "output_type": "stream",
     "text": [
      "2022-10-28 18:04:03: oggm.workflow: Execute entity tasks [compute_centerlines_rgi] on 2 glaciers\n"
     ]
    },
    {
     "name": "stdout",
     "output_type": "stream",
     "text": [
      "outline_path\n",
      "0 centerlines out of 7 were not able to be computed\n",
      "3\n",
      "3\n",
      "outline_path\n",
      "0 centerlines out of 1 were not able to be computed\n",
      "1\n",
      "1\n"
     ]
    },
    {
     "data": {
      "text/plain": [
       "[                                            geometry\n",
       " 0  LINESTRING (-517.129 5184490.455, -517.129 518...\n",
       " 1  LINESTRING (-2109.053 5181648.602, -2108.926 5...\n",
       " 2  LINESTRING (-74.261 5181390.452, -74.600 51813...,\n",
       "                                             geometry\n",
       " 0  LINESTRING (33.484 5184249.506, 33.357 5184249...]"
      ]
     },
     "execution_count": 28,
     "metadata": {},
     "output_type": "execute_result"
    }
   ],
   "source": [
    "from oggm.core.centerlines import compute_centerlines, compute_centerlines_rgi\n",
    "from oggm.workflow import execute_entity_task\n",
    "\n",
    "\n",
    "#execute_entity_task(compute_centerlines, gdirs)\n",
    "execute_entity_task(compute_centerlines_rgi, gdirs)\n"
   ]
  },
  {
   "cell_type": "code",
   "execution_count": null,
   "id": "22301d69-0198-4ae7-8739-c58d688c0e3c",
   "metadata": {},
   "outputs": [],
   "source": []
  },
  {
   "cell_type": "code",
   "execution_count": null,
   "id": "13b5de11-2465-4219-b575-eb456e9b7965",
   "metadata": {},
   "outputs": [],
   "source": []
  },
  {
   "cell_type": "code",
   "execution_count": null,
   "id": "65ac1c19-7aae-4195-b238-a30f72724b73",
   "metadata": {},
   "outputs": [],
   "source": []
  }
 ],
 "metadata": {
  "kernelspec": {
   "display_name": "Python 3 (ipykernel)",
   "language": "python",
   "name": "python3"
  },
  "language_info": {
   "codemirror_mode": {
    "name": "ipython",
    "version": 3
   },
   "file_extension": ".py",
   "mimetype": "text/x-python",
   "name": "python",
   "nbconvert_exporter": "python",
   "pygments_lexer": "ipython3",
   "version": "3.10.6"
  }
 },
 "nbformat": 4,
 "nbformat_minor": 5
}
